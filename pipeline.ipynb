{
 "cells": [
  {
   "cell_type": "markdown",
   "id": "b8c8a6d3",
   "metadata": {},
   "source": [
    "# Model Pipelines"
   ]
  },
  {
   "cell_type": "code",
   "execution_count": 7,
   "id": "6c1a0666",
   "metadata": {},
   "outputs": [
    {
     "data": {
      "text/html": [
       "<div>\n",
       "<style scoped>\n",
       "    .dataframe tbody tr th:only-of-type {\n",
       "        vertical-align: middle;\n",
       "    }\n",
       "\n",
       "    .dataframe tbody tr th {\n",
       "        vertical-align: top;\n",
       "    }\n",
       "\n",
       "    .dataframe thead th {\n",
       "        text-align: right;\n",
       "    }\n",
       "</style>\n",
       "<table border=\"1\" class=\"dataframe\">\n",
       "  <thead>\n",
       "    <tr style=\"text-align: right;\">\n",
       "      <th></th>\n",
       "      <th>Rank</th>\n",
       "      <th>Title</th>\n",
       "      <th>IMDb Rating</th>\n",
       "      <th>Votes</th>\n",
       "      <th>Poster URL</th>\n",
       "      <th>Video URL</th>\n",
       "      <th>Meta Score</th>\n",
       "      <th>Tags</th>\n",
       "      <th>Director</th>\n",
       "      <th>Description</th>\n",
       "      <th>Writers</th>\n",
       "      <th>Stars</th>\n",
       "      <th>Summary</th>\n",
       "      <th>Worldwide Gross</th>\n",
       "    </tr>\n",
       "  </thead>\n",
       "  <tbody>\n",
       "    <tr>\n",
       "      <th>0</th>\n",
       "      <td>1</td>\n",
       "      <td>Once Upon a Time... in Hollywood</td>\n",
       "      <td>7.6</td>\n",
       "      <td>927K</td>\n",
       "      <td>https://www.imdb.com/title/tt7131622/mediaview...</td>\n",
       "      <td>https://imdb-video.media-imdb.com/vi1385741849...</td>\n",
       "      <td>84.0</td>\n",
       "      <td>\"Period Drama, Showbiz Drama, Comedy, Drama\"</td>\n",
       "      <td>Quentin Tarantino</td>\n",
       "      <td>\"As Hollywood's Golden Age is winding down dur...</td>\n",
       "      <td>Quentin Tarantino</td>\n",
       "      <td>\"Leonardo DiCaprio, Brad Pitt, Margot Robbie\"</td>\n",
       "      <td>\"Reviewers say 'Once Upon a Time in Hollywood'...</td>\n",
       "      <td>-</td>\n",
       "    </tr>\n",
       "    <tr>\n",
       "      <th>1</th>\n",
       "      <td>2</td>\n",
       "      <td>Mission: Impossible - Dead Reckoning Part One</td>\n",
       "      <td>7.6</td>\n",
       "      <td>311K</td>\n",
       "      <td>https://www.imdb.com/title/tt9603212/mediaview...</td>\n",
       "      <td>https://imdb-video.media-imdb.com/vi3500918553...</td>\n",
       "      <td>81.0</td>\n",
       "      <td>\"Action Epic, Adventure Epic, Spy, Action, Adv...</td>\n",
       "      <td>Christopher McQuarrie</td>\n",
       "      <td>Ethan Hunt and his IMF team must track down a ...</td>\n",
       "      <td>\"Bruce Geller, Christopher McQuarrie, Erik Jen...</td>\n",
       "      <td>\"Tom Cruise, Hayley Atwell, Ving Rhames\"</td>\n",
       "      <td>\"Reviewers say 'Mission: Impossible - Dead Rec...</td>\n",
       "      <td>-</td>\n",
       "    </tr>\n",
       "    <tr>\n",
       "      <th>2</th>\n",
       "      <td>3</td>\n",
       "      <td>John Wick: Chapter 4</td>\n",
       "      <td>7.6</td>\n",
       "      <td>392K</td>\n",
       "      <td>https://www.imdb.com/title/tt10366206/mediavie...</td>\n",
       "      <td>https://imdb-video.media-imdb.com/vi289916185/...</td>\n",
       "      <td>78.0</td>\n",
       "      <td>\"Action Epic, Gun Fu, One,Person Army Action, ...</td>\n",
       "      <td>Chad Stahelski</td>\n",
       "      <td>\"John Wick uncovers a path to defeating The Hi...</td>\n",
       "      <td>\"Shay Hatten, Michael Finch, Derek Kolstad\"</td>\n",
       "      <td>\"Keanu Reeves, Laurence Fishburne, George Geor...</td>\n",
       "      <td>\"Reviewers say 'John Wick: Chapter 4' is laude...</td>\n",
       "      <td>-</td>\n",
       "    </tr>\n",
       "    <tr>\n",
       "      <th>3</th>\n",
       "      <td>4</td>\n",
       "      <td>Watchmen</td>\n",
       "      <td>7.6</td>\n",
       "      <td>603K</td>\n",
       "      <td>https://www.imdb.com/title/tt0409459/mediaview...</td>\n",
       "      <td>https://imdb-video.media-imdb.com/vi240565017/...</td>\n",
       "      <td>56.0</td>\n",
       "      <td>\"Dystopian Sci,Fi, Superhero, Action, Drama, M...</td>\n",
       "      <td>Zack Snyder</td>\n",
       "      <td>\"In a version of 1985 where superheroes exist-...</td>\n",
       "      <td>\"Dave Gibbons, David Hayter, Alex Tse\"</td>\n",
       "      <td>\"Jackie Earle Haley, Patrick Wilson, Carla Gug...</td>\n",
       "      <td>\"Reviewers say 'Watchmen' is acclaimed for its...</td>\n",
       "      <td>-</td>\n",
       "    </tr>\n",
       "    <tr>\n",
       "      <th>4</th>\n",
       "      <td>5</td>\n",
       "      <td>The Fifth Element</td>\n",
       "      <td>7.6</td>\n",
       "      <td>533K</td>\n",
       "      <td>https://www.imdb.com/title/tt0119116/mediaview...</td>\n",
       "      <td>https://imdb-video.media-imdb.com/vi854720793/...</td>\n",
       "      <td>52.0</td>\n",
       "      <td>\"Sci,Fi Epic, Space Sci,Fi, Action, Adventure,...</td>\n",
       "      <td>Luc Besson</td>\n",
       "      <td>\"In the colorful future- a cab driver unwittin...</td>\n",
       "      <td>\"Luc Besson, Robert Mark Kamen\"</td>\n",
       "      <td>\"Bruce Willis, Milla Jovovich, Gary Oldman\"</td>\n",
       "      <td>-</td>\n",
       "      <td>-</td>\n",
       "    </tr>\n",
       "  </tbody>\n",
       "</table>\n",
       "</div>"
      ],
      "text/plain": [
       "   Rank                                          Title  IMDb Rating Votes  \\\n",
       "0     1               Once Upon a Time... in Hollywood          7.6  927K   \n",
       "1     2  Mission: Impossible - Dead Reckoning Part One          7.6  311K   \n",
       "2     3                           John Wick: Chapter 4          7.6  392K   \n",
       "3     4                                       Watchmen          7.6  603K   \n",
       "4     5                              The Fifth Element          7.6  533K   \n",
       "\n",
       "                                          Poster URL  \\\n",
       "0  https://www.imdb.com/title/tt7131622/mediaview...   \n",
       "1  https://www.imdb.com/title/tt9603212/mediaview...   \n",
       "2  https://www.imdb.com/title/tt10366206/mediavie...   \n",
       "3  https://www.imdb.com/title/tt0409459/mediaview...   \n",
       "4  https://www.imdb.com/title/tt0119116/mediaview...   \n",
       "\n",
       "                                           Video URL  Meta Score  \\\n",
       "0  https://imdb-video.media-imdb.com/vi1385741849...        84.0   \n",
       "1  https://imdb-video.media-imdb.com/vi3500918553...        81.0   \n",
       "2  https://imdb-video.media-imdb.com/vi289916185/...        78.0   \n",
       "3  https://imdb-video.media-imdb.com/vi240565017/...        56.0   \n",
       "4  https://imdb-video.media-imdb.com/vi854720793/...        52.0   \n",
       "\n",
       "                                                Tags               Director  \\\n",
       "0       \"Period Drama, Showbiz Drama, Comedy, Drama\"      Quentin Tarantino   \n",
       "1  \"Action Epic, Adventure Epic, Spy, Action, Adv...  Christopher McQuarrie   \n",
       "2  \"Action Epic, Gun Fu, One,Person Army Action, ...         Chad Stahelski   \n",
       "3  \"Dystopian Sci,Fi, Superhero, Action, Drama, M...            Zack Snyder   \n",
       "4  \"Sci,Fi Epic, Space Sci,Fi, Action, Adventure,...             Luc Besson   \n",
       "\n",
       "                                         Description  \\\n",
       "0  \"As Hollywood's Golden Age is winding down dur...   \n",
       "1  Ethan Hunt and his IMF team must track down a ...   \n",
       "2  \"John Wick uncovers a path to defeating The Hi...   \n",
       "3  \"In a version of 1985 where superheroes exist-...   \n",
       "4  \"In the colorful future- a cab driver unwittin...   \n",
       "\n",
       "                                             Writers  \\\n",
       "0                                  Quentin Tarantino   \n",
       "1  \"Bruce Geller, Christopher McQuarrie, Erik Jen...   \n",
       "2        \"Shay Hatten, Michael Finch, Derek Kolstad\"   \n",
       "3             \"Dave Gibbons, David Hayter, Alex Tse\"   \n",
       "4                    \"Luc Besson, Robert Mark Kamen\"   \n",
       "\n",
       "                                               Stars  \\\n",
       "0      \"Leonardo DiCaprio, Brad Pitt, Margot Robbie\"   \n",
       "1           \"Tom Cruise, Hayley Atwell, Ving Rhames\"   \n",
       "2  \"Keanu Reeves, Laurence Fishburne, George Geor...   \n",
       "3  \"Jackie Earle Haley, Patrick Wilson, Carla Gug...   \n",
       "4        \"Bruce Willis, Milla Jovovich, Gary Oldman\"   \n",
       "\n",
       "                                             Summary Worldwide Gross  \n",
       "0  \"Reviewers say 'Once Upon a Time in Hollywood'...               -  \n",
       "1  \"Reviewers say 'Mission: Impossible - Dead Rec...               -  \n",
       "2  \"Reviewers say 'John Wick: Chapter 4' is laude...               -  \n",
       "3  \"Reviewers say 'Watchmen' is acclaimed for its...               -  \n",
       "4                                                  -               -  "
      ]
     },
     "execution_count": 7,
     "metadata": {},
     "output_type": "execute_result"
    }
   ],
   "source": [
    "import pandas as pd\n",
    "import numpy as np\n",
    "\n",
    "df = pd.read_csv(\"data/imdb-top-rated-movies-user-rated.csv\")\n",
    "df.head()"
   ]
  },
  {
   "cell_type": "markdown",
   "id": "a703658f",
   "metadata": {},
   "source": [
    "First we load a data from the csv file"
   ]
  },
  {
   "cell_type": "code",
   "execution_count": 8,
   "id": "3d8756e7",
   "metadata": {},
   "outputs": [
    {
     "data": {
      "text/html": [
       "<div>\n",
       "<style scoped>\n",
       "    .dataframe tbody tr th:only-of-type {\n",
       "        vertical-align: middle;\n",
       "    }\n",
       "\n",
       "    .dataframe tbody tr th {\n",
       "        vertical-align: top;\n",
       "    }\n",
       "\n",
       "    .dataframe thead th {\n",
       "        text-align: right;\n",
       "    }\n",
       "</style>\n",
       "<table border=\"1\" class=\"dataframe\">\n",
       "  <thead>\n",
       "    <tr style=\"text-align: right;\">\n",
       "      <th></th>\n",
       "      <th>Rank</th>\n",
       "      <th>Title</th>\n",
       "      <th>IMDb Rating</th>\n",
       "      <th>Votes</th>\n",
       "      <th>Poster URL</th>\n",
       "      <th>Video URL</th>\n",
       "      <th>Meta Score</th>\n",
       "      <th>Tags</th>\n",
       "      <th>Director</th>\n",
       "      <th>Description</th>\n",
       "      <th>Writers</th>\n",
       "      <th>Stars</th>\n",
       "      <th>Summary</th>\n",
       "      <th>Worldwide Gross</th>\n",
       "    </tr>\n",
       "  </thead>\n",
       "  <tbody>\n",
       "    <tr>\n",
       "      <th>816</th>\n",
       "      <td>817</td>\n",
       "      <td>Vertigo</td>\n",
       "      <td>8.2</td>\n",
       "      <td>450000</td>\n",
       "      <td>https://www.imdb.com/title/tt0052357/mediaview...</td>\n",
       "      <td>https://imdb-video.media-imdb.com/vi216072473/...</td>\n",
       "      <td>100.0</td>\n",
       "      <td>Conspiracy Thriller, Dark Romance, Psychologic...</td>\n",
       "      <td>Alfred Hitchcock</td>\n",
       "      <td>A former San Francisco police detective juggle...</td>\n",
       "      <td>Alec Coppel, Samuel A. Taylor, Pierre Boileau</td>\n",
       "      <td>James Stewart, Kim Novak, Barbara Bel Geddes</td>\n",
       "      <td>Reviewers say 'Vertigo' is acclaimed for its n...</td>\n",
       "      <td>NaN</td>\n",
       "    </tr>\n",
       "  </tbody>\n",
       "</table>\n",
       "</div>"
      ],
      "text/plain": [
       "     Rank    Title  IMDb Rating   Votes  \\\n",
       "816   817  Vertigo          8.2  450000   \n",
       "\n",
       "                                            Poster URL  \\\n",
       "816  https://www.imdb.com/title/tt0052357/mediaview...   \n",
       "\n",
       "                                             Video URL  Meta Score  \\\n",
       "816  https://imdb-video.media-imdb.com/vi216072473/...       100.0   \n",
       "\n",
       "                                                  Tags          Director  \\\n",
       "816  Conspiracy Thriller, Dark Romance, Psychologic...  Alfred Hitchcock   \n",
       "\n",
       "                                           Description  \\\n",
       "816  A former San Francisco police detective juggle...   \n",
       "\n",
       "                                           Writers  \\\n",
       "816  Alec Coppel, Samuel A. Taylor, Pierre Boileau   \n",
       "\n",
       "                                            Stars  \\\n",
       "816  James Stewart, Kim Novak, Barbara Bel Geddes   \n",
       "\n",
       "                                               Summary Worldwide Gross  \n",
       "816  Reviewers say 'Vertigo' is acclaimed for its n...             NaN  "
      ]
     },
     "execution_count": 8,
     "metadata": {},
     "output_type": "execute_result"
    }
   ],
   "source": [
    "def map_votes(votes):\n",
    "    if votes[-1] == 'K':\n",
    "        return int(float(votes[:-1])*1000)\n",
    "    elif votes[-1] == 'M':\n",
    "        return int(float(votes[:-1])*1000000)\n",
    "    else:\n",
    "        return int(votes)\n",
    "df[\"Votes\"] = df[\"Votes\"].map(map_votes)\n",
    "\n",
    "df.sample()"
   ]
  },
  {
   "cell_type": "code",
   "execution_count": 9,
   "id": "f8ba710d",
   "metadata": {},
   "outputs": [
    {
     "data": {
      "text/html": [
       "<div>\n",
       "<style scoped>\n",
       "    .dataframe tbody tr th:only-of-type {\n",
       "        vertical-align: middle;\n",
       "    }\n",
       "\n",
       "    .dataframe tbody tr th {\n",
       "        vertical-align: top;\n",
       "    }\n",
       "\n",
       "    .dataframe thead th {\n",
       "        text-align: right;\n",
       "    }\n",
       "</style>\n",
       "<table border=\"1\" class=\"dataframe\">\n",
       "  <thead>\n",
       "    <tr style=\"text-align: right;\">\n",
       "      <th></th>\n",
       "      <th>Rank</th>\n",
       "      <th>Title</th>\n",
       "      <th>IMDb Rating</th>\n",
       "      <th>Votes</th>\n",
       "      <th>Poster URL</th>\n",
       "      <th>Video URL</th>\n",
       "      <th>Meta Score</th>\n",
       "      <th>Tags</th>\n",
       "      <th>Director</th>\n",
       "      <th>Description</th>\n",
       "      <th>Writers</th>\n",
       "      <th>Stars</th>\n",
       "      <th>Summary</th>\n",
       "      <th>Worldwide Gross</th>\n",
       "    </tr>\n",
       "  </thead>\n",
       "  <tbody>\n",
       "    <tr>\n",
       "      <th>313</th>\n",
       "      <td>314</td>\n",
       "      <td>Whisper of the Heart</td>\n",
       "      <td>7.8</td>\n",
       "      <td>80000</td>\n",
       "      <td>https://www.imdb.com/title/tt0113824/mediaview...</td>\n",
       "      <td>https://imdb-video.media-imdb.com/vi825015321/...</td>\n",
       "      <td>75.0</td>\n",
       "      <td>[Anime, Coming,of,Age, Hand,Drawn Animation, I...</td>\n",
       "      <td>Yoshifumi Kondô</td>\n",
       "      <td>A love story between a girl who loves reading ...</td>\n",
       "      <td>[Aoi Hiiragi, Hayao Miyazaki]</td>\n",
       "      <td>[Yoko Honna, Issei Takahashi, Takashi Tachibana]</td>\n",
       "      <td>NaN</td>\n",
       "      <td>$4-589-697</td>\n",
       "    </tr>\n",
       "  </tbody>\n",
       "</table>\n",
       "</div>"
      ],
      "text/plain": [
       "     Rank                 Title  IMDb Rating  Votes  \\\n",
       "313   314  Whisper of the Heart          7.8  80000   \n",
       "\n",
       "                                            Poster URL  \\\n",
       "313  https://www.imdb.com/title/tt0113824/mediaview...   \n",
       "\n",
       "                                             Video URL  Meta Score  \\\n",
       "313  https://imdb-video.media-imdb.com/vi825015321/...        75.0   \n",
       "\n",
       "                                                  Tags         Director  \\\n",
       "313  [Anime, Coming,of,Age, Hand,Drawn Animation, I...  Yoshifumi Kondô   \n",
       "\n",
       "                                           Description  \\\n",
       "313  A love story between a girl who loves reading ...   \n",
       "\n",
       "                           Writers  \\\n",
       "313  [Aoi Hiiragi, Hayao Miyazaki]   \n",
       "\n",
       "                                                Stars Summary Worldwide Gross  \n",
       "313  [Yoko Honna, Issei Takahashi, Takashi Tachibana]     NaN      $4-589-697  "
      ]
     },
     "execution_count": 9,
     "metadata": {},
     "output_type": "execute_result"
    }
   ],
   "source": [
    "df[\"Stars\"] = df[\"Stars\"].astype(str).map(lambda x:x.split(\", \"))\n",
    "df[\"Writers\"] = df[\"Writers\"].astype(str).map(lambda x:x.split(\", \"))\n",
    "df[\"Tags\"] = df[\"Tags\"].astype(str).map(lambda x:x.split(\", \"))\n",
    "\n",
    "df.sample()"
   ]
  },
  {
   "cell_type": "markdown",
   "id": "33cc849f",
   "metadata": {},
   "source": [
    "Then we sequentially clean our data."
   ]
  },
  {
   "cell_type": "code",
   "execution_count": 10,
   "id": "f0f78b62",
   "metadata": {},
   "outputs": [],
   "source": [
    "from src.transformers.custom_transformer import ExplodedLooEcoder"
   ]
  },
  {
   "cell_type": "markdown",
   "id": "5e84ee79",
   "metadata": {},
   "source": [
    "Here we are importing the custom Encoder object for Encoding the exploded lists. It sits in the *src* folder."
   ]
  },
  {
   "cell_type": "code",
   "execution_count": 11,
   "id": "1387e14b",
   "metadata": {},
   "outputs": [],
   "source": [
    "from sklearn.model_selection import train_test_split\n",
    "X = df[['Votes','Meta Score','Director','Tags','Writers']]\n",
    "y = df['IMDb Rating']\n",
    "\n",
    "X_train, X_test, y_train, y_test = train_test_split(X,y,test_size=0.2,random_state=17)"
   ]
  },
  {
   "cell_type": "markdown",
   "id": "c3c6d8c2",
   "metadata": {},
   "source": [
    "finally we split our data into training and testing dataset"
   ]
  },
  {
   "cell_type": "code",
   "execution_count": 12,
   "id": "096ce40c",
   "metadata": {},
   "outputs": [],
   "source": [
    "from sklearn.compose import ColumnTransformer\n",
    "from sklearn.impute import SimpleImputer\n",
    "import category_encoders as ce\n",
    "from xgboost import XGBRegressor\n",
    "\n",
    "meta_imputer = SimpleImputer(strategy='mean')\n",
    "director_transformer = ce.LeaveOneOutEncoder(cols='Director')\n",
    "tags_transformer = ExplodedLooEcoder('Tags')\n",
    "writers_transformer = ExplodedLooEcoder('Writers')\n",
    "\n",
    "preprocessor = ColumnTransformer(\n",
    "    transformers=[\n",
    "        ('meta_score',meta_imputer,['Meta Score']),\n",
    "        ('director',director_transformer,['Director']),\n",
    "        ('tags',tags_transformer,['Tags']),\n",
    "        ('writers',writers_transformer,['Writers'])\n",
    "    ],\n",
    "    remainder='passthrough'\n",
    ")"
   ]
  },
  {
   "cell_type": "markdown",
   "id": "eae1f868",
   "metadata": {},
   "source": [
    "Now we form the required preprocessor for our model using ColumnTransformer."
   ]
  },
  {
   "cell_type": "code",
   "execution_count": 13,
   "id": "e27cd0c9",
   "metadata": {},
   "outputs": [],
   "source": [
    "xgb = XGBRegressor(\n",
    "    objective='reg:squarederror', # Specifies the learning task\n",
    "    n_estimators=300,            # Number of trees to build\n",
    "    learning_rate=0.01,\n",
    "    subsample = 0.7,    # How much each tree corrects the previous ones\n",
    "    max_depth=5,\n",
    "    colsample_bytree=0.8,\n",
    "    random_state=42\n",
    ")"
   ]
  },
  {
   "cell_type": "markdown",
   "id": "ea224b29",
   "metadata": {},
   "source": [
    "Here we define our XGBRegressor, that will perform predictions on our pre-processed data."
   ]
  },
  {
   "cell_type": "code",
   "execution_count": 14,
   "id": "27dbb783",
   "metadata": {},
   "outputs": [],
   "source": [
    "from sklearn.pipeline import Pipeline\n",
    "imdb_pipeline = Pipeline([\n",
    "    ('preprocessor',preprocessor),\n",
    "    ('xgboost',xgb)\n",
    "])"
   ]
  },
  {
   "cell_type": "markdown",
   "id": "8cfbba64",
   "metadata": {},
   "source": [
    "Finally we create the pipeline object that sequentially pre-processes the data and then predicts the IMDb ratings"
   ]
  },
  {
   "cell_type": "code",
   "execution_count": 15,
   "id": "f7d4f8ea",
   "metadata": {},
   "outputs": [],
   "source": [
    "pipe = imdb_pipeline.fit(X_train,y_train)\n",
    "y_pred = pd.Series(pipe.predict(X_test))"
   ]
  },
  {
   "cell_type": "markdown",
   "id": "09520840",
   "metadata": {},
   "source": [
    "Now we train the pipeline on our data. We also make predictions on the test data to ensure the pipeline works properly"
   ]
  },
  {
   "cell_type": "code",
   "execution_count": 16,
   "id": "eb8c74b4",
   "metadata": {},
   "outputs": [
    {
     "data": {
      "text/plain": [
       "0.24631863672859855"
      ]
     },
     "execution_count": 16,
     "metadata": {},
     "output_type": "execute_result"
    }
   ],
   "source": [
    "from sklearn.metrics import r2_score\n",
    "r2_score(y_true=y_test,y_pred=y_pred)"
   ]
  },
  {
   "cell_type": "markdown",
   "id": "b68bc212",
   "metadata": {},
   "source": [
    "As evident, the r2 score is similar, so the pipeline is fine."
   ]
  },
  {
   "cell_type": "code",
   "execution_count": 17,
   "id": "142c6d2f",
   "metadata": {},
   "outputs": [
    {
     "data": {
      "text/plain": [
       "['pipeline.joblib']"
      ]
     },
     "execution_count": 17,
     "metadata": {},
     "output_type": "execute_result"
    }
   ],
   "source": [
    "import joblib\n",
    "joblib.dump(pipe,'pipeline.joblib')"
   ]
  },
  {
   "cell_type": "markdown",
   "id": "bb297444",
   "metadata": {},
   "source": [
    "In the end, we save the train pipeline object in the joblib file so that we can predict and IMDb score whenever we like."
   ]
  }
 ],
 "metadata": {
  "kernelspec": {
   "display_name": ".vnv",
   "language": "python",
   "name": "python3"
  },
  "language_info": {
   "codemirror_mode": {
    "name": "ipython",
    "version": 3
   },
   "file_extension": ".py",
   "mimetype": "text/x-python",
   "name": "python",
   "nbconvert_exporter": "python",
   "pygments_lexer": "ipython3",
   "version": "3.13.2"
  }
 },
 "nbformat": 4,
 "nbformat_minor": 5
}
